{
 "cells": [
  {
   "cell_type": "code",
   "execution_count": 1,
   "metadata": {},
   "outputs": [],
   "source": [
    "from sklearn.linear_model import LogisticRegression\n",
    "from sklearn.linear_model.logistic import _logistic_loss\n",
    "import numpy as np\n",
    "import matplotlib.pyplot as plt"
   ]
  },
  {
   "cell_type": "code",
   "execution_count": 2,
   "metadata": {},
   "outputs": [
    {
     "name": "stdout",
     "output_type": "stream",
     "text": [
      "X_train shape: (1000, 12288)\n",
      "Y_train shape: (1000,)\n",
      "X_test shape: (200, 12288)\n",
      "Y_test shape: (200,)\n"
     ]
    }
   ],
   "source": [
    "X_train_all = np.load(open('X_train.npy', 'rb'))\n",
    "Y_train_all = np.load(open('Y_train.npy', 'rb'))\n",
    "X_test_all = np.load(open('X_test.npy', 'rb'))\n",
    "Y_test_all = np.load(open('Y_test.npy', 'rb'))\n",
    "\n",
    "#organize the data into categories\n",
    "#Adapted from Homework 6\n",
    "X_train1 = X_train_all[:200, :]\n",
    "X_train2 = X_train_all[200:400, :]\n",
    "X_train3 = X_train_all[400:600, :]\n",
    "X_train4 = X_train_all[600:800, :]\n",
    "X_train5 = X_train_all[800:1000, :]\n",
    "X_train = np.concatenate((X_train1, X_train2, X_train3, X_train4, X_train5), axis=0)\n",
    "X_train = X_train.reshape(X_train.shape[0], -1)\n",
    "\n",
    "Y_train1 = Y_train_all[:200, :]\n",
    "Y_train2 = Y_train_all[200:400, :]\n",
    "Y_train3 = Y_train_all[400:600, :]\n",
    "Y_train4 = Y_train_all[600:800, :]\n",
    "Y_train5 = Y_train_all[800:1000, :]\n",
    "Y_train = np.concatenate((Y_train1, Y_train2, Y_train3, Y_train4, Y_train5), axis=0)\n",
    "Y_train = np.argmax(Y_train, axis=1)\n",
    "\n",
    "\n",
    "X_test1 = X_test_all[:40, :]\n",
    "X_test2 = X_test_all[40:80, :]\n",
    "X_test3 = X_test_all[80:120, :]\n",
    "X_test4 = X_test_all[120:160, :]\n",
    "X_test5 = X_test_all[160:200, :]\n",
    "X_test = np.concatenate((X_test1, X_test2, X_test3, X_test4, X_test5), axis=0)\n",
    "X_test = X_test.reshape(X_test.shape[0], -1)\n",
    "\n",
    "Y_test1 = Y_test_all[:40, :]\n",
    "Y_test2 = Y_test_all[40:80, :]\n",
    "Y_test3 = Y_test_all[80:120, :]\n",
    "Y_test4 = Y_test_all[120:160, :]\n",
    "Y_test5 = Y_test_all[160:200, :]\n",
    "Y_test = np.concatenate((Y_test1, Y_test2, Y_test3, Y_test4, Y_test5), axis=0)\n",
    "Y_test = np.argmax(Y_test, axis=1)\n",
    "\n",
    "print('X_train shape:', X_train.shape)\n",
    "print('Y_train shape:', Y_train.shape)\n",
    "print('X_test shape:', X_test.shape)\n",
    "print('Y_test shape:', Y_test.shape)"
   ]
  },
  {
   "cell_type": "code",
   "execution_count": 3,
   "metadata": {},
   "outputs": [
    {
     "name": "stdout",
     "output_type": "stream",
     "text": [
      "Logistic Regression Training Accuracy:  1.0\n",
      "Logistic Regression Testing Accuracy:  0.515\n"
     ]
    }
   ],
   "source": [
    "#calling the model\n",
    "clf = LogisticRegression(random_state=0, solver='newton-cg', multi_class='multinomial', max_iter=1000).fit(X_train, Y_train)\n",
    "\n",
    "\n",
    "clf.predict(X_train)\n",
    "\n",
    "clf.predict_proba(X_train)\n",
    "\n",
    "print(\"Logistic Regression Training Accuracy: \", clf.score(X_train, Y_train))\n",
    "\n",
    "clf.predict(X_test)\n",
    "\n",
    "clf.predict_proba(X_test)\n",
    "\n",
    "print(\"Logistic Regression Testing Accuracy: \",clf.score(X_test, Y_test))"
   ]
  }
 ],
 "metadata": {
  "kernelspec": {
   "display_name": "Python 3",
   "language": "python",
   "name": "python3"
  },
  "language_info": {
   "codemirror_mode": {
    "name": "ipython",
    "version": 3
   },
   "file_extension": ".py",
   "mimetype": "text/x-python",
   "name": "python",
   "nbconvert_exporter": "python",
   "pygments_lexer": "ipython3",
   "version": "3.6.7"
  }
 },
 "nbformat": 4,
 "nbformat_minor": 2
}
